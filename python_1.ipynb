{
  "nbformat": 4,
  "nbformat_minor": 0,
  "metadata": {
    "colab": {
      "provenance": [],
      "authorship_tag": "ABX9TyPe4W9GV/SNuzejheHCZZ7g",
      "include_colab_link": true
    },
    "kernelspec": {
      "name": "python3",
      "display_name": "Python 3"
    },
    "language_info": {
      "name": "python"
    }
  },
  "cells": [
    {
      "cell_type": "markdown",
      "metadata": {
        "id": "view-in-github",
        "colab_type": "text"
      },
      "source": [
        "<a href=\"https://colab.research.google.com/github/robinkm0610/python_dump/blob/main/python_1.ipynb\" target=\"_parent\"><img src=\"https://colab.research.google.com/assets/colab-badge.svg\" alt=\"Open In Colab\"/></a>"
      ]
    },
    {
      "cell_type": "code",
      "execution_count": 1,
      "metadata": {
        "colab": {
          "base_uri": "https://localhost:8080/"
        },
        "id": "vIaEc8mBTnzG",
        "outputId": "4f22d46b-05a2-4d05-ed0d-5ef5632a023e"
      },
      "outputs": [
        {
          "output_type": "stream",
          "name": "stdout",
          "text": [
            "[1024, 3, True, 6.5, False]\n",
            "[1024, 3, 4.5, True, 6.5, False]\n",
            "False\n",
            "[1024, 3, 4.5, True, 6.5]\n",
            "3\n",
            "[1024, 4.5, True, 6.5]\n",
            "[1024, 4.5, 6.5]\n",
            "[4.5, 6.5, 1024]\n",
            "[1024, 6.5, 4.5]\n",
            "1\n",
            "2\n",
            "[1024, 4.5]\n",
            "[4.5]\n"
          ]
        }
      ],
      "source": [
        "my_list = [1024, 3, True, 6.5]\n",
        "my_list.append(False)\n",
        "print(my_list)\n",
        "my_list.insert(2,4.5)\n",
        "print(my_list)\n",
        "print(my_list.pop())\n",
        "print(my_list)\n",
        "print(my_list.pop(1))\n",
        "print(my_list)\n",
        "my_list.pop(2)\n",
        "print(my_list)\n",
        "my_list.sort()\n",
        "print(my_list)\n",
        "my_list.reverse()\n",
        "print(my_list)\n",
        "print(my_list.count(6.5))\n",
        "print(my_list.index(4.5))\n",
        "my_list.remove(6.5)\n",
        "print(my_list)\n",
        "del my_list[0]\n",
        "print(my_list)"
      ]
    },
    {
      "cell_type": "code",
      "source": [
        "list(range(10))"
      ],
      "metadata": {
        "colab": {
          "base_uri": "https://localhost:8080/"
        },
        "id": "xwe2RzyhTqXi",
        "outputId": "a6263a85-858f-4105-eae5-d7c849c137c9"
      },
      "execution_count": 3,
      "outputs": [
        {
          "output_type": "execute_result",
          "data": {
            "text/plain": [
              "[0, 1, 2, 3, 4, 5, 6, 7, 8, 9]"
            ]
          },
          "metadata": {},
          "execution_count": 3
        }
      ]
    },
    {
      "cell_type": "code",
      "source": [
        "word_list = ['cat','dog','rabbit']\n",
        "letter_list = [ ]\n",
        "for a_word in word_list:\n",
        "  for a_letter in a_word:\n",
        "    letter_list.append(a_letter)\n",
        "print(letter_list)\n"
      ],
      "metadata": {
        "colab": {
          "base_uri": "https://localhost:8080/"
        },
        "id": "HfMJ6dTmUSlB",
        "outputId": "f7c1dc3d-fb67-4bf7-ea22-52cce411d677"
      },
      "execution_count": 4,
      "outputs": [
        {
          "output_type": "stream",
          "name": "stdout",
          "text": [
            "['c', 'a', 't', 'd', 'o', 'g', 'r', 'a', 'b', 'b', 'i', 't']\n"
          ]
        }
      ]
    },
    {
      "cell_type": "code",
      "source": [],
      "metadata": {
        "id": "deh4KsiwWm-A"
      },
      "execution_count": null,
      "outputs": []
    }
  ]
}